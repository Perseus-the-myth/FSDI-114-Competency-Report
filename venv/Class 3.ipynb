{
 "cells": [
  {
   "cell_type": "markdown",
   "id": "5265cd0b",
   "metadata": {},
   "source": [
    "#Balanced parentheses check\n",
    "\n",
    "Given a string of opening and closing parentheses, check whether it is balanced.\n",
    "We have 3 types of parentheses: round (), square [] and curly {}.\n",
    "\n",
    "Assumptions: Parameter string doesn't contain any other characters other than these(no spaces, words or numbers).\n",
    "Balanced parentheses require every opening parentheses to be closed in the reverse order opened.\n",
    "\n",
    "## examples: ([]) is balanced, ([)] is not balanced. \n",
    "\n",
    "instructions:\n",
    "\n",
    "Create a function called balance_check that takes a parameter \"s\". balance_check(\"()\") should return True.\n",
    "\n"
   ]
  },
  {
   "cell_type": "code",
   "execution_count": 14,
   "id": "30fe6d44",
   "metadata": {},
   "outputs": [
    {
     "ename": "SyntaxError",
     "evalue": "expected ':' (823681378.py, line 1)",
     "output_type": "error",
     "traceback": [
      "\u001b[0;36m  Input \u001b[0;32mIn [14]\u001b[0;36m\u001b[0m\n\u001b[0;31m    def balance_check(s)\u001b[0m\n\u001b[0m                        ^\u001b[0m\n\u001b[0;31mSyntaxError\u001b[0m\u001b[0;31m:\u001b[0m expected ':'\n"
     ]
    }
   ],
   "source": [
    "def balance_check(s)\n",
    "    for \"s\"\n",
    "        if \"s\"== [({})]\n",
    "            print True\n",
    "        elif \"s\" == ({[)}]\n",
    "            print False\n",
    "                      \n",
    "    #if the first character is an opening parentheses \n",
    "        #valid_matches = [(\"()\")], (\"[\",\"]\"), \n",
    "                      \n",
    "    #stack = new Stack() # create an instance of Stack ()\n",
    "    #for each character in s:\n",
    "        #if the character is an opening parentheses:\n",
    "            #stack.push(character)\n",
    "        #else:\n",
    "            #last_parantheses = stack.pop()\n",
    "            #if (last_parentheses, character) not in valid_matches:\n",
    "                #return False\n",
    "        #return True if stack is empty, False otherwise\n",
    "            \n",
    "\n",
    "def balance_check(s):\n",
    "    pass \n"
   ]
  },
  {
   "cell_type": "code",
   "execution_count": null,
   "id": "955f7d71",
   "metadata": {},
   "outputs": [],
   "source": [
    " class stack:\n",
    "        def balance_check(s):\n",
    "           's'.items = [({\n",
    "           \n",
    "        def is_empty(s):\n",
    "          return s.items \n",
    "        \n",
    "        def push(s, item):\n",
    "           s.items.append(item)\n",
    "        \n",
    "        def pop(s):\n",
    "            return s.items[len(s.items)-1]\n",
    "       \n",
    "        def peek(self):\n",
    "            return s.items[len(s.items)-1]\n",
    "        def size (s):\n",
    "           return len(s.items)\n",
    "               \n",
    "    def balance_check (s):\n",
    "         if len(s) % 2 !+ 0:\n",
    "               return False\n",
    "        stack = Stack()\n",
    "        open_paren = set(\"([{\")\n",
    "        valid_matches = \n",
    "               set([(\"(\",\")\")]),\n",
    "               (\"[\", \"]\")\n",
    "        for character in s:\n",
    "               if character in open_paren:\n",
    "                   stack.push(character)\n",
    "               else:\n",
    "                   if stack.is_empty():\n",
    "                       return False\n",
    "               last_open = stack.pop()\n",
    "               if (last_open, character)not in matches:\n",
    "                   return False\n",
    "        return stack.is_empty()\n",
    "               \n",
    "               "
   ]
  },
  {
   "cell_type": "markdown",
   "id": "f29160d0",
   "metadata": {},
   "source": [
    "##Queue "
   ]
  },
  {
   "cell_type": "code",
   "execution_count": null,
   "id": "7d7a7614",
   "metadata": {},
   "outputs": [],
   "source": [
    "try:\n",
    "    assert balance_check(\"([{}])\")== True\n",
    "    assert balance_check(\"(((())))\")== False\n",
    "    assert balance_check(\"()()\")== True\n",
    "\n",
    "except AssertionError as assert_err:\n",
    "    print(assert_err)"
   ]
  },
  {
   "cell_type": "code",
   "execution_count": null,
   "id": "90719b05",
   "metadata": {},
   "outputs": [],
   "source": [
    "class Queue2Stacks:\n",
    "    def __init__(self):\n",
    "        self.in_stack = []\n",
    "        self.out_stack = []\n",
    "        \n",
    "    def enqueue(self, item):\n",
    "        self.in_stack.append(item)\n",
    "        \n",
    "    def dequeue(self):\n",
    "        if not self.out_stack:\n",
    "            while self.in_stack:\n",
    "                item = self.in_stack.pop()\n",
    "                self.out_stack.append(item)\n",
    "        return self.out_stack.pop()\n",
    "    \n",
    "def test_queue2stacks():\n",
    "    for i in range(5):\n",
    "        print(\"Adding %s to the queue.\" % i)\n",
    "        queue.enqueue(i)\n",
    "    for i in range(5):\n",
    "        assert queue.dequeue() == i\n",
    "        print(\"Got %s from queue which meets requirements.\" %current)\n",
    "        \n",
    "    \n",
    "    print(\"TOK\")"
   ]
  },
  {
   "cell_type": "code",
   "execution_count": null,
   "id": "6cb8cf7e",
   "metadata": {},
   "outputs": [],
   "source": []
  }
 ],
 "metadata": {
  "kernelspec": {
   "display_name": "Python 3 (ipykernel)",
   "language": "python",
   "name": "python3"
  },
  "language_info": {
   "codemirror_mode": {
    "name": "ipython",
    "version": 3
   },
   "file_extension": ".py",
   "mimetype": "text/x-python",
   "name": "python",
   "nbconvert_exporter": "python",
   "pygments_lexer": "ipython3",
   "version": "3.10.1"
  }
 },
 "nbformat": 4,
 "nbformat_minor": 5
}
