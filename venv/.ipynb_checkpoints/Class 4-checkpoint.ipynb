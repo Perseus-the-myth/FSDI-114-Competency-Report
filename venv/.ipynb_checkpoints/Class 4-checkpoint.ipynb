{
 "cells": [
  {
   "cell_type": "code",
   "execution_count": null,
   "id": "d24578be",
   "metadata": {},
   "outputs": [],
   "source": [
    "#recursive factorial:\n",
    "\n",
    "def fact(n):\n",
    "    if n == 0:\n",
    "        return 1\n",
    "    return n*fact(n-1)\n",
    "\n"
   ]
  },
  {
   "cell_type": "code",
   "execution_count": null,
   "id": "3afb2649",
   "metadata": {},
   "outputs": [],
   "source": [
    "from functools import lru_cache\n",
    "\n",
    "@lru_cache\n",
    "def fib(n):\n",
    "    if n < 2:\n",
    "        return n\n",
    "    return fib(n-1) + fib(n-2)\n"
   ]
  },
  {
   "cell_type": "code",
   "execution_count": null,
   "id": "8de070d1",
   "metadata": {},
   "outputs": [],
   "source": [
    "for i in range(1000, 10000, 500)\n",
    "    fib(i)"
   ]
  },
  {
   "cell_type": "code",
   "execution_count": null,
   "id": "2d757e84",
   "metadata": {},
   "outputs": [],
   "source": [
    "print(fib(10000))"
   ]
  },
  {
   "cell_type": "code",
   "execution_count": null,
   "id": "fed7c429",
   "metadata": {},
   "outputs": [],
   "source": [
    "#convert these recursive functions to iterative functions (meaning instead of recursing, use looping)"
   ]
  },
  {
   "cell_type": "code",
   "execution_count": null,
   "id": "8991489c",
   "metadata": {},
   "outputs": [],
   "source": [
    "class HashTable:\n",
    "    def __init__(self, size):\n",
    "        #Setting up size, slots and data\n",
    "        self.size = size\n",
    "        self.slots = [None] * self.size\n",
    "        self.data = [None] * self.size\n",
    "        \n",
    "        #were only using integer values for key\n",
    "    def put(self, key, data):\n",
    "        #calculating hashvalue\n",
    "        hashvalue = self.hashfunction(key, len(self.slots))\n",
    "        #Checking if the slot value is empty\n",
    "        if self.slots[hashvalue] == None:\n",
    "            self.slots[hashvalue] = key\n",
    "            self.data[nextslot] = data\n",
    "            \n",
    "        else:\n",
    "            #If key already exists, replace old value\n",
    "            if self.slots[hashvalue] == key:\n",
    "                self.data[nextslot] = data\n",
    "            else:\n",
    "                nextslot = self.rehash(hashvalue, len(self.slots))\n",
    "                while self.slots[nextslot] != None and self.slots[nextslot] != key:\n",
    "                    nextslot = self.rehash(nextslot)\n",
    "            \n",
    "def hashfunction(self, key, size):\n",
    "    return key%size\n",
    "def rehash(self, oldhash, size):\n",
    "    return (oldhash=1)%size\n",
    "\n",
    "def get(self, key):\n",
    "    startslot = self.hashfunction(key, len(self.slots))\n",
    "    data = None\n",
    "    stop = False\n",
    "    position = startslot\n",
    "    while self.slots[position] != None and not found and not stop:\n",
    "        if self.slots[position] == key:\n",
    "            found = True\n",
    "            data = self.data[position]\n",
    "            \n",
    "        else:\n",
    "            position = self.rehash(position, len(self.slots))\n",
    "            if position == startslot:\n",
    "                stop = True\n",
    "    return data\n",
    "\n",
    "def __getitem__(self, key):\n",
    "    return self.get(key)\n",
    "\n",
    "def __setitem__(self, key, data):\n",
    "    self.put(key, data)"
   ]
  }
 ],
 "metadata": {
  "kernelspec": {
   "display_name": "Python 3 (ipykernel)",
   "language": "python",
   "name": "python3"
  },
  "language_info": {
   "codemirror_mode": {
    "name": "ipython",
    "version": 3
   },
   "file_extension": ".py",
   "mimetype": "text/x-python",
   "name": "python",
   "nbconvert_exporter": "python",
   "pygments_lexer": "ipython3",
   "version": "3.10.1"
  }
 },
 "nbformat": 4,
 "nbformat_minor": 5
}
