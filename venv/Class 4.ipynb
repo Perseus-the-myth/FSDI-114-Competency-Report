{
 "cells": [
  {
   "cell_type": "code",
   "execution_count": null,
   "id": "bcd8ea58",
   "metadata": {},
   "outputs": [],
   "source": [
    "#recursive factorial:\n",
    "\n",
    "def fact(n):\n",
    "    if n == 0:\n",
    "        return 1\n",
    "    return n*fact(n-1)\n",
    "\n"
   ]
  },
  {
   "cell_type": "code",
   "execution_count": null,
   "id": "e4af48b8",
   "metadata": {},
   "outputs": [],
   "source": [
    "from functools import lru_cache\n",
    "\n",
    "@lru_cache\n",
    "def fib(n):\n",
    "    if n < 2:\n",
    "        return n\n",
    "    return fib(n-1) + fib(n-2)\n"
   ]
  },
  {
   "cell_type": "code",
   "execution_count": null,
   "id": "40af23d0",
   "metadata": {},
   "outputs": [],
   "source": [
    "for i in range(1000, 10000, 500)\n",
    "    fib(i)"
   ]
  },
  {
   "cell_type": "code",
   "execution_count": null,
   "id": "dae3492f",
   "metadata": {},
   "outputs": [],
   "source": [
    "print(fib(10000))"
   ]
  },
  {
   "cell_type": "code",
   "execution_count": null,
   "id": "d31ebff6",
   "metadata": {},
   "outputs": [],
   "source": [
    "#convert these recursive functions to iterative functions (meaning instead of recursing, use looping)"
   ]
  },
  {
   "cell_type": "code",
   "execution_count": null,
   "id": "318922cd",
   "metadata": {},
   "outputs": [],
   "source": [
    "class HashTable:\n",
    "    def __init__(self, size):\n",
    "        #Setting up size, slots and data\n",
    "        self.size = size\n",
    "        self.slots = [None] * self.size\n",
    "        self.data = [None] * self.size\n",
    "        \n",
    "        #were only using integer values for key\n",
    "    def put(self, key, data):\n",
    "        #calculating hashvalue\n",
    "        hashvalue = self.hashfunction(key, len(self.slots))\n",
    "        #Checking if the slot value is empty\n",
    "        if self.slots[hashvalue] == None:\n",
    "            self.slots[hashvalue] = key\n",
    "            self.data[nextslot] = data\n",
    "            print(\"Stored: %s with key: %s\" % (key,data))\n",
    "            \n",
    "        else:\n",
    "            #If key already exists, replace old value\n",
    "            if self.slots[hashvalue] == key:\n",
    "                self.data[nextslot] = data\n",
    "                print(\"Stored: %s with key: %s\" % (key,data))\n",
    "            else:\n",
    "                nextslot = self.rehash(hashvalue, len(self.slots))\n",
    "                while self.slots[nextslot] != None and self.slots[nextslot] != key:\n",
    "                    nextslot = self.rehash(nextslot)\n",
    "            \n",
    "def hashfunction(self, key, size):\n",
    "    return key%size\n",
    "def rehash(self, oldhash, size):\n",
    "    return (oldhash=1)%size\n",
    "\n",
    "def get(self, key):\n",
    "    startslot = self.hashfunction(key, len(self.slots))\n",
    "    data = None\n",
    "    stop = False\n",
    "    position = startslot\n",
    "    while self.slots[position] != None and not found and not stop:\n",
    "        if self.slots[position] == key:\n",
    "            found = True\n",
    "            data = self.data[position]\n",
    "            prin(\"Found key at position: %s with data: %s\" % (position, data))\n",
    "            \n",
    "        else:\n",
    "            position = self.rehash(position, len(self.slots))\n",
    "            if position == startslot:\n",
    "                stop = True\n",
    "    return data\n",
    "\n",
    "def __getitem__(self, key):\n",
    "    return self.get(key)\n",
    "\n",
    "def __setitem__(self, key, data):\n",
    "    self.put(key, data)\n",
    "def print_table(self):\n",
    "    for i in range(size)\n",
    "        print(\" %s -> %s\" % (self.slots[i], self.data[i]))"
   ]
  },
  {
   "cell_type": "code",
   "execution_count": null,
   "id": "14015760",
   "metadata": {},
   "outputs": [],
   "source": [
    "ht = HashTable(11)\n",
    "values = [0, 1, 1, 2, 5, 8, 13, 21]\n",
    "def load_hashtable():\n",
    "    for i in range(8):\n",
    "        ht.put(i, value[i])\n",
    "        \n",
    "print(ht.get(8))"
   ]
  },
  {
   "cell_type": "code",
   "execution_count": null,
   "id": "3676523d",
   "metadata": {},
   "outputs": [],
   "source": [
    "class Node:\n",
    "    def __init__(self, data):\n",
    "        self.data = data\n",
    "        self.next = None"
   ]
  },
  {
   "cell_type": "code",
   "execution_count": null,
   "id": "c84979a1",
   "metadata": {},
   "outputs": [],
   "source": [
    "node1 = Node(10)\n",
    "node2 = Node(11)\n",
    "node3 = Node(12)\n",
    "\n",
    "node1.next = node2\n",
    "node2.next = node3\n",
    "\n",
    "current = node1\n",
    "while current != None:\n",
    "    print(current.data)\n",
    "    current = current.next"
   ]
  },
  {
   "cell_type": "code",
   "execution_count": null,
   "id": "4e9dbf44",
   "metadata": {},
   "outputs": [],
   "source": [
    "class SinglyLinkedList:\n",
    "    def __init__(self):\n",
    "        self.head = None\n",
    "        \n",
    "    def append(self, value):\n",
    "        current = self.head\n",
    "        if not current:\n",
    "            self.head = Node(value)\n",
    "        else:\n",
    "            while current.next:\n",
    "                current = current.next\n",
    "            current.next = Node(value)\n",
    "    def prepend(self, value):\n",
    "        current = self.head\n",
    "        if not current:\n",
    "            self.head = Node(value)\n",
    "        else:\n",
    "            new_node = Node(value)\n",
    "            temp_node = self.head\n",
    "            new_node.next = temp_node\n",
    "            self.head = new_node"
   ]
  },
  {
   "cell_type": "code",
   "execution_count": null,
   "id": "6dc688b1",
   "metadata": {},
   "outputs": [],
   "source": []
  },
  {
   "cell_type": "code",
   "execution_count": null,
   "id": "3592af3b",
   "metadata": {},
   "outputs": [],
   "source": [
    "class DNode:\n",
    "    def __init__(self, data):\n",
    "        self.data = data\n",
    "        self.next = None\n",
    "        self.prev = None"
   ]
  }
 ],
 "metadata": {
  "kernelspec": {
   "display_name": "Python 3 (ipykernel)",
   "language": "python",
   "name": "python3"
  },
  "language_info": {
   "codemirror_mode": {
    "name": "ipython",
    "version": 3
   },
   "file_extension": ".py",
   "mimetype": "text/x-python",
   "name": "python",
   "nbconvert_exporter": "python",
   "pygments_lexer": "ipython3",
   "version": "3.10.1"
  }
 },
 "nbformat": 4,
 "nbformat_minor": 5
}
